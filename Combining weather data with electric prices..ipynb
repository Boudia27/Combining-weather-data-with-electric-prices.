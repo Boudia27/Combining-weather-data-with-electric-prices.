{
 "cells": [
  {
   "cell_type": "markdown",
   "id": "fa889a6b",
   "metadata": {},
   "source": [
    "# Combining weather data with electric prices."
   ]
  },
  {
   "cell_type": "code",
   "execution_count": 1,
   "id": "5d3d7ded",
   "metadata": {},
   "outputs": [],
   "source": [
    "import numpy as np\n",
    "import pandas as pd\n",
    "import matplotlib.pyplot as plt\n",
    "import seaborn as sns\n",
    "import plotly.express as px \n",
    "import Data_Eng_Functions as ff"
   ]
  },
  {
   "cell_type": "code",
   "execution_count": 2,
   "id": "d0f2102d",
   "metadata": {},
   "outputs": [
    {
     "name": "stdout",
     "output_type": "stream",
     "text": [
      "<class 'pandas.core.frame.DataFrame'>\n",
      "Int64Index: 23040 entries, 3792 to 695\n",
      "Data columns (total 2 columns):\n",
      " #   Column  Non-Null Count  Dtype         \n",
      "---  ------  --------------  -----         \n",
      " 0   Date    23040 non-null  datetime64[ns]\n",
      " 1   Price   23040 non-null  float64       \n",
      "dtypes: datetime64[ns](1), float64(1)\n",
      "memory usage: 540.0 KB\n"
     ]
    }
   ],
   "source": [
    "data_folder = r\"C:/Users/Dell/Desktop/Lecture_14_11_2022/mywork2/Electric_prices_data\"\n",
    "df = ff.parseHTMLfiles(data_folder)"
   ]
  },
  {
   "cell_type": "code",
   "execution_count": 3,
   "id": "f383a619",
   "metadata": {},
   "outputs": [],
   "source": [
    "df.to_csv('Electric_prices.csv')"
   ]
  },
  {
   "cell_type": "code",
   "execution_count": 4,
   "id": "f649b859",
   "metadata": {},
   "outputs": [],
   "source": [
    "weather = pd.read_csv(\"weather_df.csv\", parse_dates=['DATE'])"
   ]
  },
  {
   "cell_type": "markdown",
   "id": "f4a07227",
   "metadata": {},
   "source": [
    "# Calculate an average for each hour by grouping weather data into hourly groups"
   ]
  },
  {
   "cell_type": "code",
   "execution_count": 5,
   "id": "10f24947",
   "metadata": {},
   "outputs": [],
   "source": [
    "weather = pd.read_csv(\"weather_df.csv\", parse_dates=['DATE'])"
   ]
  },
  {
   "cell_type": "markdown",
   "id": "5bc93925",
   "metadata": {},
   "source": [
    "# Correct the datetime format and load the weather data"
   ]
  },
  {
   "cell_type": "code",
   "execution_count": 6,
   "id": "c5b0805b",
   "metadata": {},
   "outputs": [
    {
     "data": {
      "text/plain": [
       "DATE\n",
       "2020-03-06 00:00:00    4.535294\n",
       "2020-03-06 01:00:00    4.731250\n",
       "2020-03-06 02:00:00    5.323529\n",
       "2020-03-06 03:00:00    3.992308\n",
       "2020-03-06 04:00:00    4.960000\n",
       "                         ...   \n",
       "2022-03-31 19:00:00    5.238462\n",
       "2022-03-31 20:00:00    4.746154\n",
       "2022-03-31 21:00:00    4.300000\n",
       "2022-03-31 22:00:00    4.676923\n",
       "2022-03-31 23:00:00    4.930769\n",
       "Freq: H, Name: WIND_SPEED, Length: 18144, dtype: float64"
      ]
     },
     "execution_count": 6,
     "metadata": {},
     "output_type": "execute_result"
    }
   ],
   "source": [
    "wind_speeds_hourly = weather.groupby(pd.Grouper(key='DATE', freq='H'))['WIND_SPEED'].mean()\n",
    "wind_speeds_hourly"
   ]
  },
  {
   "cell_type": "code",
   "execution_count": 7,
   "id": "e6e86045",
   "metadata": {},
   "outputs": [
    {
     "data": {
      "text/html": [
       "<div>\n",
       "<style scoped>\n",
       "    .dataframe tbody tr th:only-of-type {\n",
       "        vertical-align: middle;\n",
       "    }\n",
       "\n",
       "    .dataframe tbody tr th {\n",
       "        vertical-align: top;\n",
       "    }\n",
       "\n",
       "    .dataframe thead th {\n",
       "        text-align: right;\n",
       "    }\n",
       "</style>\n",
       "<table border=\"1\" class=\"dataframe\">\n",
       "  <thead>\n",
       "    <tr style=\"text-align: right;\">\n",
       "      <th></th>\n",
       "      <th>Date</th>\n",
       "      <th>Price</th>\n",
       "    </tr>\n",
       "  </thead>\n",
       "  <tbody>\n",
       "    <tr>\n",
       "      <th>3792</th>\n",
       "      <td>2020-03-06 00:00:00</td>\n",
       "      <td>1.70624</td>\n",
       "    </tr>\n",
       "    <tr>\n",
       "      <th>3793</th>\n",
       "      <td>2020-03-06 01:00:00</td>\n",
       "      <td>1.91456</td>\n",
       "    </tr>\n",
       "    <tr>\n",
       "      <th>3794</th>\n",
       "      <td>2020-03-06 02:00:00</td>\n",
       "      <td>1.85504</td>\n",
       "    </tr>\n",
       "    <tr>\n",
       "      <th>3795</th>\n",
       "      <td>2020-03-06 03:00:00</td>\n",
       "      <td>1.85876</td>\n",
       "    </tr>\n",
       "    <tr>\n",
       "      <th>3796</th>\n",
       "      <td>2020-03-06 04:00:00</td>\n",
       "      <td>1.89472</td>\n",
       "    </tr>\n",
       "    <tr>\n",
       "      <th>...</th>\n",
       "      <td>...</td>\n",
       "      <td>...</td>\n",
       "    </tr>\n",
       "    <tr>\n",
       "      <th>691</th>\n",
       "      <td>2022-11-01 19:00:00</td>\n",
       "      <td>37.95392</td>\n",
       "    </tr>\n",
       "    <tr>\n",
       "      <th>692</th>\n",
       "      <td>2022-11-01 20:00:00</td>\n",
       "      <td>41.59580</td>\n",
       "    </tr>\n",
       "    <tr>\n",
       "      <th>693</th>\n",
       "      <td>2022-11-01 21:00:00</td>\n",
       "      <td>27.15848</td>\n",
       "    </tr>\n",
       "    <tr>\n",
       "      <th>694</th>\n",
       "      <td>2022-11-01 22:00:00</td>\n",
       "      <td>23.00572</td>\n",
       "    </tr>\n",
       "    <tr>\n",
       "      <th>695</th>\n",
       "      <td>2022-11-01 23:00:00</td>\n",
       "      <td>17.51252</td>\n",
       "    </tr>\n",
       "  </tbody>\n",
       "</table>\n",
       "<p>23040 rows × 2 columns</p>\n",
       "</div>"
      ],
      "text/plain": [
       "                    Date     Price\n",
       "3792 2020-03-06 00:00:00   1.70624\n",
       "3793 2020-03-06 01:00:00   1.91456\n",
       "3794 2020-03-06 02:00:00   1.85504\n",
       "3795 2020-03-06 03:00:00   1.85876\n",
       "3796 2020-03-06 04:00:00   1.89472\n",
       "...                  ...       ...\n",
       "691  2022-11-01 19:00:00  37.95392\n",
       "692  2022-11-01 20:00:00  41.59580\n",
       "693  2022-11-01 21:00:00  27.15848\n",
       "694  2022-11-01 22:00:00  23.00572\n",
       "695  2022-11-01 23:00:00  17.51252\n",
       "\n",
       "[23040 rows x 2 columns]"
      ]
     },
     "execution_count": 7,
     "metadata": {},
     "output_type": "execute_result"
    }
   ],
   "source": [
    "df['Price'].count()\n",
    "df"
   ]
  },
  {
   "cell_type": "code",
   "execution_count": 8,
   "id": "e701c2e8",
   "metadata": {},
   "outputs": [],
   "source": [
    "price_list = []\n",
    "wind_speed_list=[]\n",
    "data_points = min([df['Price'].count(), wind_speeds_hourly.count()])\n",
    "for i in range(data_points):\n",
    "    price = df['Price'].iloc[i]\n",
    "    wind_speed = wind_speeds_hourly.iloc[i]\n",
    "    if np.isnan(price) or np.isnan(wind_speed):\n",
    "\n",
    "        price_list.append(price_list[-1])\n",
    "        wind_speed_list.append(wind_speed_list[-1])\n",
    "    else:\n",
    "        price_list.append(df['Price'].iloc[i])\n",
    "        wind_speed_list.append(wind_speeds_hourly.iloc[i])"
   ]
  },
  {
   "cell_type": "markdown",
   "id": "6964f3d7",
   "metadata": {},
   "source": [
    "# A visual representation of the correlation between datasets' prices and wind speeds"
   ]
  },
  {
   "cell_type": "code",
   "execution_count": 9,
   "id": "2e87d5e0",
   "metadata": {},
   "outputs": [
    {
     "data": {
      "text/plain": [
       "<matplotlib.collections.PathCollection at 0x1e0b0e91190>"
      ]
     },
     "execution_count": 9,
     "metadata": {},
     "output_type": "execute_result"
    },
    {
     "data": {
      "image/png": "[encoded data removed]",
      "text/plain": [
       "<Figure size 640x480 with 1 Axes>"
      ]
     },
     "metadata": {},
     "output_type": "display_data"
    }
   ],
   "source": [
    "plt.scatter(price_list, wind_speed_list)"
   ]
  },
  {
   "cell_type": "code",
   "execution_count": 10,
   "id": "16eeba37",
   "metadata": {},
   "outputs": [
    {
     "name": "stderr",
     "output_type": "stream",
     "text": [
      "C:\\Program Files\\KMSpico\\temp\\ipykernel_1620\\3557319564.py:1: DeprecationWarning: Please use `pearsonr` from the `scipy.stats` namespace, the `scipy.stats.stats` namespace is deprecated.\n",
      "  from scipy.stats.stats import pearsonr\n"
     ]
    },
    {
     "data": {
      "text/plain": [
       "PearsonRResult(statistic=0.04331084260886378, pvalue=9.200021535618966e-09)"
      ]
     },
     "execution_count": 10,
     "metadata": {},
     "output_type": "execute_result"
    }
   ],
   "source": [
    "from scipy.stats.stats import pearsonr\n",
    "pearsonr(price_list, wind_speed_list)"
   ]
  },
  {
   "cell_type": "markdown",
   "id": "80aa8039",
   "metadata": {},
   "source": [
    "# Dashboard of wind speed and NordPoolSpot Prices"
   ]
  },
  {
   "cell_type": "code",
   "execution_count": 10,
   "id": "bf2a51e1",
   "metadata": {},
   "outputs": [
    {
     "name": "stderr",
     "output_type": "stream",
     "text": [
      "WARNING: This is a development server. Do not use it in a production deployment. Use a production WSGI server instead.\n",
      " * Running on http://127.0.0.1:8001\n",
      "Press CTRL+C to quit\n",
      "127.0.0.1 - - [27/Dec/2022 19:36:22] \"GET /_alive_62c4fb0c-d84a-4a57-938b-7f18e60d26a6 HTTP/1.1\" 200 -\n",
      "127.0.0.1 - - [27/Dec/2022 19:36:53] \"GET / HTTP/1.1\" 200 -\n",
      "127.0.0.1 - - [27/Dec/2022 19:36:53] \"GET /_dash-component-suites/dash/deps/polyfill@7.v2_7_1m1670895835.12.1.min.js HTTP/1.1\" 200 -\n",
      "127.0.0.1 - - [27/Dec/2022 19:36:53] \"GET /_dash-component-suites/dash/deps/react@16.v2_7_1m1670895835.14.0.min.js HTTP/1.1\" 200 -\n",
      "127.0.0.1 - - [27/Dec/2022 19:36:53] \"GET /_dash-component-suites/dash/deps/react-dom@16.v2_7_1m1670895835.14.0.min.js HTTP/1.1\" 200 -\n",
      "127.0.0.1 - - [27/Dec/2022 19:36:53] \"GET /_dash-component-suites/dash/deps/prop-types@15.v2_7_1m1670895835.8.1.min.js HTTP/1.1\" 200 -\n",
      "127.0.0.1 - - [27/Dec/2022 19:36:53] \"GET /_dash-component-suites/dash/dash-renderer/build/dash_renderer.v2_7_1m1670895835.min.js HTTP/1.1\" 200 -\n",
      "127.0.0.1 - - [27/Dec/2022 19:36:53] \"GET /_dash-component-suites/dash/dcc/dash_core_components.v2_7_1m1670895835.js HTTP/1.1\" 200 -\n",
      "127.0.0.1 - - [27/Dec/2022 19:36:53] \"GET /_dash-component-suites/dash/dcc/dash_core_components-shared.v2_7_1m1670895835.js HTTP/1.1\" 200 -\n",
      "127.0.0.1 - - [27/Dec/2022 19:36:53] \"GET /_dash-component-suites/dash/html/dash_html_components.v2_0_7m1670895835.min.js HTTP/1.1\" 200 -\n",
      "127.0.0.1 - - [27/Dec/2022 19:36:53] \"GET /_dash-component-suites/dash/dash_table/bundle.v5_2_1m1670895835.js HTTP/1.1\" 200 -\n",
      "127.0.0.1 - - [27/Dec/2022 19:36:54] \"GET /_dash-dependencies HTTP/1.1\" 200 -\n",
      "127.0.0.1 - - [27/Dec/2022 19:36:54] \"GET /_favicon.ico?v=2.7.1 HTTP/1.1\" 200 -\n",
      "127.0.0.1 - - [27/Dec/2022 19:36:56] \"GET /_favicon.ico?v=2.7.1 HTTP/1.1\" 200 -\n",
      "127.0.0.1 - - [27/Dec/2022 19:36:56] \"GET /cart.json HTTP/1.1\" 200 -\n",
      "127.0.0.1 - - [27/Dec/2022 19:36:57] \"GET /_reload-hash HTTP/1.1\" 200 -\n",
      "127.0.0.1 - - [27/Dec/2022 19:36:59] \"GET /_dash-layout HTTP/1.1\" 200 -\n",
      "127.0.0.1 - - [27/Dec/2022 19:37:00] \"GET /_dash-component-suites/dash/dcc/async-graph.js HTTP/1.1\" 200 -\n",
      "127.0.0.1 - - [27/Dec/2022 19:37:00] \"GET /_dash-component-suites/dash/dcc/async-plotlyjs.js HTTP/1.1\" 200 -\n",
      "127.0.0.1 - - [27/Dec/2022 19:37:01] \"GET /_reload-hash HTTP/1.1\" 200 -\n",
      "127.0.0.1 - - [27/Dec/2022 19:37:03] \"GET /_reload-hash HTTP/1.1\" 200 -\n",
      "127.0.0.1 - - [27/Dec/2022 19:37:06] \"GET /_reload-hash HTTP/1.1\" 200 -\n",
      "127.0.0.1 - - [27/Dec/2022 19:37:34] \"GET /_reload-hash HTTP/1.1\" 200 -\n",
      "127.0.0.1 - - [27/Dec/2022 19:37:37] \"GET /_reload-hash HTTP/1.1\" 200 -\n",
      "127.0.0.1 - - [27/Dec/2022 19:37:40] \"GET /_reload-hash HTTP/1.1\" 200 -\n",
      "127.0.0.1 - - [27/Dec/2022 19:37:43] \"GET /_reload-hash HTTP/1.1\" 200 -\n",
      "127.0.0.1 - - [27/Dec/2022 19:37:46] \"GET /_reload-hash HTTP/1.1\" 200 -\n",
      "127.0.0.1 - - [27/Dec/2022 19:37:49] \"GET /_reload-hash HTTP/1.1\" 200 -\n",
      "127.0.0.1 - - [27/Dec/2022 19:37:52] \"GET /_reload-hash HTTP/1.1\" 200 -\n",
      "127.0.0.1 - - [27/Dec/2022 19:37:55] \"GET /_reload-hash HTTP/1.1\" 200 -\n",
      "127.0.0.1 - - [27/Dec/2022 19:37:58] \"GET /_reload-hash HTTP/1.1\" 200 -\n",
      "127.0.0.1 - - [27/Dec/2022 19:38:01] \"GET /_reload-hash HTTP/1.1\" 200 -\n",
      "127.0.0.1 - - [27/Dec/2022 19:38:16] \"GET / HTTP/1.1\" 200 -\n",
      "127.0.0.1 - - [27/Dec/2022 19:38:18] \"GET /_dash-dependencies HTTP/1.1\" 200 -\n",
      "127.0.0.1 - - [27/Dec/2022 19:38:18] \"GET /_favicon.ico?v=2.7.1 HTTP/1.1\" 200 -\n",
      "127.0.0.1 - - [27/Dec/2022 19:38:19] \"GET /_favicon.ico?v=2.7.1 HTTP/1.1\" 200 -\n",
      "127.0.0.1 - - [27/Dec/2022 19:38:20] \"GET /cart.json HTTP/1.1\" 200 -\n",
      "127.0.0.1 - - [27/Dec/2022 19:38:21] \"GET /_reload-hash HTTP/1.1\" 200 -\n",
      "127.0.0.1 - - [27/Dec/2022 19:38:24] \"GET /_dash-layout HTTP/1.1\" 200 -\n",
      "127.0.0.1 - - [27/Dec/2022 19:38:24] \"GET /_reload-hash HTTP/1.1\" 200 -\n",
      "127.0.0.1 - - [27/Dec/2022 19:38:24] \"GET /_dash-component-suites/dash/dcc/async-plotlyjs.js HTTP/1.1\" 304 -\n",
      "127.0.0.1 - - [27/Dec/2022 19:38:24] \"GET /_dash-component-suites/dash/dcc/async-graph.js HTTP/1.1\" 304 -\n",
      "127.0.0.1 - - [27/Dec/2022 19:38:27] \"GET /_reload-hash HTTP/1.1\" 200 -\n",
      "127.0.0.1 - - [27/Dec/2022 19:38:30] \"GET /_reload-hash HTTP/1.1\" 200 -\n",
      "127.0.0.1 - - [27/Dec/2022 19:38:37] \"GET /_reload-hash HTTP/1.1\" 200 -\n",
      "127.0.0.1 - - [27/Dec/2022 19:38:39] \"GET /_reload-hash HTTP/1.1\" 200 -\n",
      "127.0.0.1 - - [27/Dec/2022 19:38:42] \"GET /_reload-hash HTTP/1.1\" 200 -\n",
      "127.0.0.1 - - [27/Dec/2022 19:38:45] \"GET /_reload-hash HTTP/1.1\" 200 -\n",
      "127.0.0.1 - - [27/Dec/2022 19:38:48] \"GET /_reload-hash HTTP/1.1\" 200 -\n",
      "127.0.0.1 - - [27/Dec/2022 19:38:51] \"GET /_reload-hash HTTP/1.1\" 200 -\n",
      "127.0.0.1 - - [27/Dec/2022 19:38:54] \"GET /_reload-hash HTTP/1.1\" 200 -\n",
      "127.0.0.1 - - [27/Dec/2022 19:38:57] \"GET /_reload-hash HTTP/1.1\" 200 -\n",
      "127.0.0.1 - - [27/Dec/2022 19:39:00] \"GET /_reload-hash HTTP/1.1\" 200 -\n",
      "127.0.0.1 - - [27/Dec/2022 19:39:03] \"GET /_reload-hash HTTP/1.1\" 200 -\n",
      "127.0.0.1 - - [27/Dec/2022 19:39:06] \"GET /_reload-hash HTTP/1.1\" 200 -\n",
      "127.0.0.1 - - [27/Dec/2022 19:39:09] \"GET /_reload-hash HTTP/1.1\" 200 -\n",
      "127.0.0.1 - - [27/Dec/2022 19:39:12] \"GET /_reload-hash HTTP/1.1\" 200 -\n",
      "127.0.0.1 - - [27/Dec/2022 19:39:15] \"GET /_reload-hash HTTP/1.1\" 200 -\n",
      "127.0.0.1 - - [27/Dec/2022 19:39:18] \"GET /_reload-hash HTTP/1.1\" 200 -\n",
      "127.0.0.1 - - [27/Dec/2022 19:39:21] \"GET /_reload-hash HTTP/1.1\" 200 -\n",
      "127.0.0.1 - - [27/Dec/2022 19:39:24] \"GET /_reload-hash HTTP/1.1\" 200 -\n",
      "127.0.0.1 - - [27/Dec/2022 19:39:27] \"GET /_reload-hash HTTP/1.1\" 200 -\n",
      "127.0.0.1 - - [27/Dec/2022 19:39:30] \"GET /_reload-hash HTTP/1.1\" 200 -\n",
      "127.0.0.1 - - [27/Dec/2022 19:39:33] \"GET /_reload-hash HTTP/1.1\" 200 -\n",
      "127.0.0.1 - - [27/Dec/2022 19:39:36] \"GET /_reload-hash HTTP/1.1\" 200 -\n",
      "127.0.0.1 - - [27/Dec/2022 19:39:39] \"GET /_reload-hash HTTP/1.1\" 200 -\n",
      "127.0.0.1 - - [27/Dec/2022 19:39:42] \"GET /_reload-hash HTTP/1.1\" 200 -\n",
      "127.0.0.1 - - [27/Dec/2022 19:39:45] \"GET /_reload-hash HTTP/1.1\" 200 -\n",
      "127.0.0.1 - - [27/Dec/2022 19:39:48] \"GET /_reload-hash HTTP/1.1\" 200 -\n",
      "127.0.0.1 - - [27/Dec/2022 19:39:51] \"GET /_reload-hash HTTP/1.1\" 200 -\n",
      "127.0.0.1 - - [27/Dec/2022 19:39:54] \"GET /_reload-hash HTTP/1.1\" 200 -\n",
      "127.0.0.1 - - [27/Dec/2022 19:39:57] \"GET /_reload-hash HTTP/1.1\" 200 -\n",
      "127.0.0.1 - - [27/Dec/2022 19:40:00] \"GET /_reload-hash HTTP/1.1\" 200 -\n",
      "127.0.0.1 - - [27/Dec/2022 19:40:03] \"GET /_reload-hash HTTP/1.1\" 200 -\n",
      "127.0.0.1 - - [27/Dec/2022 19:40:06] \"GET /_reload-hash HTTP/1.1\" 200 -\n",
      "127.0.0.1 - - [27/Dec/2022 19:40:09] \"GET /_reload-hash HTTP/1.1\" 200 -\n",
      "127.0.0.1 - - [27/Dec/2022 19:40:12] \"GET /_reload-hash HTTP/1.1\" 200 -\n",
      "127.0.0.1 - - [27/Dec/2022 19:40:15] \"GET /_reload-hash HTTP/1.1\" 200 -\n",
      "127.0.0.1 - - [27/Dec/2022 19:40:18] \"GET /_reload-hash HTTP/1.1\" 200 -\n",
      "127.0.0.1 - - [27/Dec/2022 19:40:21] \"GET /_reload-hash HTTP/1.1\" 200 -\n",
      "127.0.0.1 - - [27/Dec/2022 19:40:24] \"GET /_reload-hash HTTP/1.1\" 200 -\n",
      "127.0.0.1 - - [27/Dec/2022 19:40:27] \"GET /_reload-hash HTTP/1.1\" 200 -\n",
      "127.0.0.1 - - [27/Dec/2022 19:40:30] \"GET /_reload-hash HTTP/1.1\" 200 -\n",
      "127.0.0.1 - - [27/Dec/2022 19:40:33] \"GET /_reload-hash HTTP/1.1\" 200 -\n",
      "127.0.0.1 - - [27/Dec/2022 19:40:36] \"GET /_reload-hash HTTP/1.1\" 200 -\n",
      "127.0.0.1 - - [27/Dec/2022 19:40:39] \"GET /_reload-hash HTTP/1.1\" 200 -\n",
      "127.0.0.1 - - [27/Dec/2022 19:40:42] \"GET /_reload-hash HTTP/1.1\" 200 -\n",
      "127.0.0.1 - - [27/Dec/2022 19:40:45] \"GET /_reload-hash HTTP/1.1\" 200 -\n",
      "127.0.0.1 - - [27/Dec/2022 19:40:48] \"GET /_reload-hash HTTP/1.1\" 200 -\n",
      "127.0.0.1 - - [27/Dec/2022 19:40:51] \"GET /_reload-hash HTTP/1.1\" 200 -\n",
      "127.0.0.1 - - [27/Dec/2022 19:40:54] \"GET /_reload-hash HTTP/1.1\" 200 -\n",
      "127.0.0.1 - - [27/Dec/2022 19:40:57] \"GET /_reload-hash HTTP/1.1\" 200 -\n",
      "127.0.0.1 - - [27/Dec/2022 19:41:00] \"GET /_reload-hash HTTP/1.1\" 200 -\n",
      "127.0.0.1 - - [27/Dec/2022 19:41:03] \"GET /_reload-hash HTTP/1.1\" 200 -\n",
      "127.0.0.1 - - [27/Dec/2022 19:41:06] \"GET /_reload-hash HTTP/1.1\" 200 -\n",
      "127.0.0.1 - - [27/Dec/2022 19:41:09] \"GET /_reload-hash HTTP/1.1\" 200 -\n",
      "127.0.0.1 - - [27/Dec/2022 19:41:12] \"GET /_reload-hash HTTP/1.1\" 200 -\n",
      "127.0.0.1 - - [27/Dec/2022 19:41:15] \"GET /_reload-hash HTTP/1.1\" 200 -\n",
      "127.0.0.1 - - [27/Dec/2022 19:41:18] \"GET /_reload-hash HTTP/1.1\" 200 -\n",
      "127.0.0.1 - - [27/Dec/2022 19:41:21] \"GET /_reload-hash HTTP/1.1\" 200 -\n",
      "127.0.0.1 - - [27/Dec/2022 19:41:24] \"GET /_reload-hash HTTP/1.1\" 200 -\n"
     ]
    },
    {
     "name": "stderr",
     "output_type": "stream",
     "text": [
      "127.0.0.1 - - [27/Dec/2022 19:41:27] \"GET /_reload-hash HTTP/1.1\" 200 -\n",
      "127.0.0.1 - - [27/Dec/2022 19:41:30] \"GET /_reload-hash HTTP/1.1\" 200 -\n",
      "127.0.0.1 - - [27/Dec/2022 19:41:33] \"GET /_reload-hash HTTP/1.1\" 200 -\n",
      "127.0.0.1 - - [27/Dec/2022 19:41:36] \"GET /_reload-hash HTTP/1.1\" 200 -\n",
      "127.0.0.1 - - [27/Dec/2022 19:41:39] \"GET /_reload-hash HTTP/1.1\" 200 -\n",
      "127.0.0.1 - - [27/Dec/2022 19:41:42] \"GET /_reload-hash HTTP/1.1\" 200 -\n",
      "127.0.0.1 - - [27/Dec/2022 19:41:45] \"GET /_reload-hash HTTP/1.1\" 200 -\n",
      "127.0.0.1 - - [27/Dec/2022 19:41:48] \"GET /_reload-hash HTTP/1.1\" 200 -\n",
      "127.0.0.1 - - [27/Dec/2022 19:41:51] \"GET /_reload-hash HTTP/1.1\" 200 -\n",
      "127.0.0.1 - - [27/Dec/2022 19:41:54] \"GET /_reload-hash HTTP/1.1\" 200 -\n",
      "127.0.0.1 - - [27/Dec/2022 19:41:57] \"GET /_reload-hash HTTP/1.1\" 200 -\n",
      "127.0.0.1 - - [27/Dec/2022 19:42:00] \"GET /_reload-hash HTTP/1.1\" 200 -\n",
      "127.0.0.1 - - [27/Dec/2022 19:42:03] \"GET /_reload-hash HTTP/1.1\" 200 -\n",
      "127.0.0.1 - - [27/Dec/2022 19:42:06] \"GET /_reload-hash HTTP/1.1\" 200 -\n",
      "127.0.0.1 - - [27/Dec/2022 19:42:09] \"GET /_reload-hash HTTP/1.1\" 200 -\n",
      "127.0.0.1 - - [27/Dec/2022 19:42:12] \"GET /_reload-hash HTTP/1.1\" 200 -\n",
      "127.0.0.1 - - [27/Dec/2022 19:42:15] \"GET /_reload-hash HTTP/1.1\" 200 -\n",
      "127.0.0.1 - - [27/Dec/2022 19:42:18] \"GET /_reload-hash HTTP/1.1\" 200 -\n",
      "127.0.0.1 - - [27/Dec/2022 19:42:21] \"GET /_reload-hash HTTP/1.1\" 200 -\n",
      "127.0.0.1 - - [27/Dec/2022 19:42:24] \"GET /_reload-hash HTTP/1.1\" 200 -\n",
      "127.0.0.1 - - [27/Dec/2022 19:42:27] \"GET /_reload-hash HTTP/1.1\" 200 -\n",
      "127.0.0.1 - - [27/Dec/2022 19:42:30] \"GET /_reload-hash HTTP/1.1\" 200 -\n",
      "127.0.0.1 - - [27/Dec/2022 19:42:33] \"GET /_reload-hash HTTP/1.1\" 200 -\n",
      "127.0.0.1 - - [27/Dec/2022 19:42:36] \"GET /_reload-hash HTTP/1.1\" 200 -\n",
      "127.0.0.1 - - [27/Dec/2022 19:42:39] \"GET /_reload-hash HTTP/1.1\" 200 -\n",
      "127.0.0.1 - - [27/Dec/2022 19:42:42] \"GET /_reload-hash HTTP/1.1\" 200 -\n",
      "127.0.0.1 - - [27/Dec/2022 19:42:45] \"GET /_reload-hash HTTP/1.1\" 200 -\n",
      "127.0.0.1 - - [27/Dec/2022 19:42:48] \"GET /_reload-hash HTTP/1.1\" 200 -\n",
      "127.0.0.1 - - [27/Dec/2022 19:42:51] \"GET /_reload-hash HTTP/1.1\" 200 -\n",
      "127.0.0.1 - - [27/Dec/2022 19:42:54] \"GET /_reload-hash HTTP/1.1\" 200 -\n",
      "127.0.0.1 - - [27/Dec/2022 19:42:57] \"GET /_reload-hash HTTP/1.1\" 200 -\n",
      "127.0.0.1 - - [27/Dec/2022 19:43:00] \"GET /_reload-hash HTTP/1.1\" 200 -\n",
      "127.0.0.1 - - [27/Dec/2022 19:43:03] \"GET /_reload-hash HTTP/1.1\" 200 -\n",
      "127.0.0.1 - - [27/Dec/2022 19:43:06] \"GET /_reload-hash HTTP/1.1\" 200 -\n",
      "127.0.0.1 - - [27/Dec/2022 19:43:09] \"GET /_reload-hash HTTP/1.1\" 200 -\n",
      "127.0.0.1 - - [27/Dec/2022 19:43:12] \"GET /_reload-hash HTTP/1.1\" 200 -\n",
      "127.0.0.1 - - [27/Dec/2022 19:43:15] \"GET /_reload-hash HTTP/1.1\" 200 -\n",
      "127.0.0.1 - - [27/Dec/2022 19:43:18] \"GET /_reload-hash HTTP/1.1\" 200 -\n",
      "127.0.0.1 - - [27/Dec/2022 19:43:21] \"GET /_reload-hash HTTP/1.1\" 200 -\n",
      "127.0.0.1 - - [27/Dec/2022 19:43:24] \"GET /_reload-hash HTTP/1.1\" 200 -\n",
      "127.0.0.1 - - [27/Dec/2022 19:43:27] \"GET /_reload-hash HTTP/1.1\" 200 -\n",
      "127.0.0.1 - - [27/Dec/2022 19:43:30] \"GET /_reload-hash HTTP/1.1\" 200 -\n",
      "127.0.0.1 - - [27/Dec/2022 19:43:33] \"GET /_reload-hash HTTP/1.1\" 200 -\n",
      "127.0.0.1 - - [27/Dec/2022 19:43:36] \"GET /_reload-hash HTTP/1.1\" 200 -\n",
      "127.0.0.1 - - [27/Dec/2022 19:43:39] \"GET /_reload-hash HTTP/1.1\" 200 -\n",
      "127.0.0.1 - - [27/Dec/2022 19:43:42] \"GET /_reload-hash HTTP/1.1\" 200 -\n",
      "127.0.0.1 - - [27/Dec/2022 19:43:45] \"GET /_reload-hash HTTP/1.1\" 200 -\n",
      "127.0.0.1 - - [27/Dec/2022 19:43:48] \"GET /_reload-hash HTTP/1.1\" 200 -\n",
      "127.0.0.1 - - [27/Dec/2022 19:43:51] \"GET /_reload-hash HTTP/1.1\" 200 -\n",
      "127.0.0.1 - - [27/Dec/2022 19:43:54] \"GET /_reload-hash HTTP/1.1\" 200 -\n",
      "127.0.0.1 - - [27/Dec/2022 19:43:57] \"GET /_reload-hash HTTP/1.1\" 200 -\n",
      "127.0.0.1 - - [27/Dec/2022 19:44:00] \"GET /_reload-hash HTTP/1.1\" 200 -\n",
      "127.0.0.1 - - [27/Dec/2022 19:44:03] \"GET /_reload-hash HTTP/1.1\" 200 -\n",
      "127.0.0.1 - - [27/Dec/2022 19:44:06] \"GET /_reload-hash HTTP/1.1\" 200 -\n",
      "127.0.0.1 - - [27/Dec/2022 19:44:09] \"GET /_reload-hash HTTP/1.1\" 200 -\n",
      "127.0.0.1 - - [27/Dec/2022 19:44:12] \"GET /_reload-hash HTTP/1.1\" 200 -\n",
      "127.0.0.1 - - [27/Dec/2022 19:44:15] \"GET /_reload-hash HTTP/1.1\" 200 -\n",
      "127.0.0.1 - - [27/Dec/2022 19:44:18] \"GET /_reload-hash HTTP/1.1\" 200 -\n",
      "127.0.0.1 - - [27/Dec/2022 19:44:21] \"GET /_reload-hash HTTP/1.1\" 200 -\n",
      "127.0.0.1 - - [27/Dec/2022 19:44:24] \"GET /_reload-hash HTTP/1.1\" 200 -\n",
      "127.0.0.1 - - [27/Dec/2022 19:44:27] \"GET /_reload-hash HTTP/1.1\" 200 -\n",
      "127.0.0.1 - - [27/Dec/2022 19:44:30] \"GET /_reload-hash HTTP/1.1\" 200 -\n",
      "127.0.0.1 - - [27/Dec/2022 19:44:33] \"GET /_reload-hash HTTP/1.1\" 200 -\n",
      "127.0.0.1 - - [27/Dec/2022 19:44:36] \"GET /_reload-hash HTTP/1.1\" 200 -\n",
      "127.0.0.1 - - [27/Dec/2022 19:44:39] \"GET /_reload-hash HTTP/1.1\" 200 -\n",
      "127.0.0.1 - - [27/Dec/2022 19:44:42] \"GET /_reload-hash HTTP/1.1\" 200 -\n",
      "127.0.0.1 - - [27/Dec/2022 19:44:45] \"GET /_reload-hash HTTP/1.1\" 200 -\n",
      "127.0.0.1 - - [27/Dec/2022 19:44:48] \"GET /_reload-hash HTTP/1.1\" 200 -\n",
      "127.0.0.1 - - [27/Dec/2022 19:44:51] \"GET /_reload-hash HTTP/1.1\" 200 -\n",
      "127.0.0.1 - - [27/Dec/2022 19:44:54] \"GET /_reload-hash HTTP/1.1\" 200 -\n",
      "127.0.0.1 - - [27/Dec/2022 19:44:57] \"GET /_reload-hash HTTP/1.1\" 200 -\n",
      "127.0.0.1 - - [27/Dec/2022 19:45:00] \"GET /_reload-hash HTTP/1.1\" 200 -\n",
      "127.0.0.1 - - [27/Dec/2022 19:45:03] \"GET /_reload-hash HTTP/1.1\" 200 -\n",
      "127.0.0.1 - - [27/Dec/2022 19:45:06] \"GET /_reload-hash HTTP/1.1\" 200 -\n",
      "127.0.0.1 - - [27/Dec/2022 19:45:09] \"GET /_reload-hash HTTP/1.1\" 200 -\n",
      "127.0.0.1 - - [27/Dec/2022 19:45:12] \"GET /_reload-hash HTTP/1.1\" 200 -\n",
      "127.0.0.1 - - [27/Dec/2022 19:45:15] \"GET /_reload-hash HTTP/1.1\" 200 -\n",
      "127.0.0.1 - - [27/Dec/2022 19:45:42] \"GET /_reload-hash HTTP/1.1\" 200 -\n"
     ]
    }
   ],
   "source": [
    "from dash import dcc, html\n",
    "from jupyter_dash import JupyterDash\n",
    "import plotly.express as px\n",
    "\n",
    "figures = []\n",
    "colors = px.colors.qualitative.T10\n",
    "figmap = px.scatter_mapbox(weather, lat=\"LATITUDE\", lon=\"LONGITUDE\",  hover_data=[\"WIND_SPEED\"],\n",
    "                                            hover_name=\"STATION\",\n",
    "                                            color_discrete_sequence=[\"blue\"], zoom=3)\n",
    "figmap.update_layout(mapbox_style=\"open-street-map\")\n",
    "figmap.update_layout(margin={\"r\":0,\"t\":0,\"l\":0,\"b\":0})\n",
    "\n",
    "fig = px.scatter(df, x='Date', y='Price',\n",
    "                        title=\"NordPoolSpot Prices s/KWh\", hover_data=['Price', 'Date'],\n",
    "                        hover_name=\"Price\", \n",
    "                        trendline='lowess', \n",
    "                        color_discrete_sequence = colors, trendline_options=dict(frac=0.01))\n",
    "fig.update_traces(mode = 'lines')\n",
    "fig.data[-1].line.color = 'red'\n",
    "\n",
    "fig.update_traces(opacity=0.2)\n",
    "fig.data[-1].name = 'Spot' \n",
    "fig.data[-1].showlegend = True\n",
    "\n",
    "fig.add_scatter(x=df['Date'], y=wind_speed_list, line={'color': 'green'})\n",
    "fig.data[-1].name = 'Wind speeds'\n",
    "fig.data[-1].showlegend = True\n",
    "\n",
    "figures.append(dcc.Graph(figure=fig, id='Prices'))\n",
    "figures.append(dcc.Graph(figure=figmap))\n",
    "app = JupyterDash(__name__)\n",
    "\n",
    "app.layout = html.Div(figures)\n",
    "\n",
    "app.run_server(mode='jupyterlab', debug=False, use_reloader=False, dev_tools_ui=True, \n",
    "              dev_tools_hot_reload =True, threaded=True, port = 8001) \n"
   ]
  },
  {
   "cell_type": "code",
   "execution_count": null,
   "id": "a6b82193",
   "metadata": {},
   "outputs": [],
   "source": []
  }
 ],
 "metadata": {
  "kernelspec": {
   "display_name": "Python 3 (ipykernel)",
   "language": "python",
   "name": "python3"
  },
  "language_info": {
   "codemirror_mode": {
    "name": "ipython",
    "version": 3
   },
   "file_extension": ".py",
   "mimetype": "text/x-python",
   "name": "python",
   "nbconvert_exporter": "python",
   "pygments_lexer": "ipython3",
   "version": "3.9.13"
  }
 },
 "nbformat": 4,
 "nbformat_minor": 5
}
